{
 "metadata": {
  "name": "",
  "signature": "sha256:378ccb7f99a202bbd6086b4b0d440c00c514e8885b4b42147bfb9ce0be851c71"
 },
 "nbformat": 3,
 "nbformat_minor": 0,
 "worksheets": [
  {
   "cells": [
    {
     "cell_type": "heading",
     "level": 1,
     "metadata": {},
     "source": [
      "Project 1 -- Analyzing the NYC subway weather data"
     ]
    },
    {
     "cell_type": "markdown",
     "metadata": {},
     "source": [
      "The ultimate goal of this project is to analyze the datasource -- the New York subway weather data -- and find out whether there is any correlation betweeen the possibility of rain and the number of subway entries. Actually, the dataset is very rich in features and there is a lot of interesting patterns in data to be found.\n",
      "\n",
      "So let's dive in."
     ]
    },
    {
     "cell_type": "heading",
     "level": 2,
     "metadata": {},
     "source": [
      "Section 1. Statistical test"
     ]
    },
    {
     "cell_type": "code",
     "collapsed": false,
     "input": [
      "# I used ipython in pylab mode, so there's no need to import scipy, numpy or matplotlib\n",
      "import pandas as pd\n",
      "import random\n",
      "import statsmodels.api as sm"
     ],
     "language": "python",
     "metadata": {},
     "outputs": [],
     "prompt_number": 28
    },
    {
     "cell_type": "markdown",
     "metadata": {},
     "source": [
      "**Statistical test.** I used the Mann-Whitney U test to understand whether the two samples are taken from the same or identical distributions.\n",
      "\n",
      "**P-value.** For this analysis, I decided to use a two-tailed P value. As we use Python and Scipy library in this course, `scipy.stats.mattwitneyu` function should be applied to get the U-statistic. Because of the fact that this function returns one-tailed p-value, we need to multiply the result by two.\n",
      "\n",
      "**P-critical and H0.** I assumed the p-critical to be 0.05 or 5% which seemed quite fair (it brings higher levels of significance than, say, `p-critical = 0.1`). The null hypothesis usually states that there is no difference between two populations, so that I made the following H0: *\"There is no difference between the number of entries in rainy and non-rainy days\"*.\n",
      "\n",
      "**Applicability of the test.** The Mann-Whitney test is applicable to this dataset because of non-normality of the data as we discovered in Section 3.1. In other words, the Mann-Whitney test is a nonparametric test which makes no assumptions about the probability distribution of the dataset. This is exactly what we need. \n",
      "\n",
      "Non-normal data distribution would not allow us to use Welch's T test, for example. Here is the histogram which proves this:"
     ]
    },
    {
     "cell_type": "code",
     "collapsed": false,
     "input": [
      "df = pd.read_csv('turnstile_data_master_with_weather.csv')\n",
      "plt.figure(figsize=(10,6))\n",
      "df[df['rain'] == 0.0]['ENTRIESn_hourly'].hist(range=(0,6000), label='No Rain', color='blue', bins=20)\n",
      "df[df['rain'] == 1.0]['ENTRIESn_hourly'].hist(range=(0,6000), label='Rain', color='green', bins=18, alpha=0.8)\n",
      "plt.xlabel('Entries')\n",
      "plt.ylabel('Frequency')\n",
      "plt.title('Histogram of hourly entries')\n",
      "plt.legend()"
     ],
     "language": "python",
     "metadata": {},
     "outputs": [
      {
       "metadata": {},
       "output_type": "pyout",
       "prompt_number": 25,
       "text": [
        "<matplotlib.legend.Legend at 0x11626fed0>"
       ]
      },
      {
       "metadata": {},
       "output_type": "display_data",
       "png": "[encoded data removed]",
       "text": [
        "<matplotlib.figure.Figure at 0x11c8b2890>"
       ]
      }
     ],
     "prompt_number": 25
    },
    {
     "cell_type": "markdown",
     "metadata": {},
     "source": [
      "By the way, there is a huge difference in the number of samples for rain and no-rain. It may affect the significance of our conclusions."
     ]
    },
    {
     "cell_type": "markdown",
     "metadata": {},
     "source": [
      "**Results of the test.** After my calculations, I got the following results:\n",
      "\n",
      "* mean_with_rain: 1105.4463767458733\n",
      "\n",
      "* mean_without_rain: 1090.278780151855\n",
      "\n",
      "* U-statistics: 1924409167\n",
      "\n",
      "* One-tailed p-value: 0.02499\n",
      "\n",
      "What useful information does it tell us? \n",
      "\n",
      "First, the mean of the ridership on rainy days is higher than the one on non-rainy days. Though we shouldn't forget the difference between the number of rain vs no-rain samples. \n",
      "\n",
      "Second, the p-value (and the two-tailed value, too) is less than our p-critical. This gives us a significant evidence that two populations are not the same (rejecting our H0) and there is a difference between the number of entries in rainy and non-rainy days."
     ]
    },
    {
     "cell_type": "heading",
     "level": 2,
     "metadata": {},
     "source": [
      "Section 2. Linear regression"
     ]
    },
    {
     "cell_type": "markdown",
     "metadata": {},
     "source": [
      "**Approach**. I decided to use OLS from `statsmodels.stats` package. There are two reasons behind this choice. The first is that I was just curious to compare OLS with the gradient descent implementation I had in Problem Set 3. The second is that I thought it'd be a good idea to use a stable library on my working dataset.\n",
      "\n",
      "**Features.** The final list of features looked like this:\n",
      "\n",
      "* Unit (as a dummy variable). Self-explanatory.\n",
      "\n",
      "* Day (a weekday number from 0 to 6, Monday to Sunday) -- this is a dummy variable. The main reason was to divide working days and weekend days. A simple boolean feature I first tried (weekend or not) was not significant. This is easily understandable: there is a difference in ridership between working days as well. So the only reasonable way was to consider the whole 'day' feature dummy, even though it increased the complexity of the model.\n",
      "\n",
      "* Hour (as a dummy variable). As with 'day', there is no linear relation between the hour and ridership. Again, this choice increased the complexity of the underlying model.\n",
      "\n",
      "* Meanwindspdi\n",
      "\n",
      "* Meantempi (I tested mintempi as well, but meantempi contributed a little more to r-squared)\n",
      "\n",
      "* Precipi\n",
      "\n",
      "* Rain\n",
      "\n",
      "* Fog\n",
      "\n",
      "* Meanpressurei\n",
      "\n",
      "Total: 9 features, 3 dummy variables."
     ]
    },
    {
     "cell_type": "code",
     "collapsed": false,
     "input": [
      "df3 = df['UNIT DATEn Hour ENTRIESn_hourly meanwindspdi mintempi meantempi precipi fog rain meanpressurei'.split(' ')]\n",
      "df3['day'] = df3['DATEn'].apply(lambda x: datetime.datetime.strptime(x, '%Y-%m-%d').weekday())\n",
      "del(df3['DATEn'])"
     ],
     "language": "python",
     "metadata": {},
     "outputs": [],
     "prompt_number": 11
    },
    {
     "cell_type": "markdown",
     "metadata": {},
     "source": [
      "**Reasoning.** First of all, I started with a common sense. I thought that there are three features which should contibute a lot to the robustness of the whole model: unit, hour and day (funny to say, all of these features are dummy variables). To test my assumption I ran the OLS model adding each of them one by one and measuring the increase of r-squared.\n",
      "\n",
      "To do so I used the subset of our data -- a random sample of 20000 measurements. "
     ]
    },
    {
     "cell_type": "code",
     "collapsed": false,
     "input": [
      "sub_df3 = df3.ix[random.sample(df3.index, 20000)]\n",
      "sub_df3.head()"
     ],
     "language": "python",
     "metadata": {},
     "outputs": [
      {
       "html": [
        "<div style=\"max-height:1000px;max-width:1500px;overflow:auto;\">\n",
        "<table border=\"1\" class=\"dataframe\">\n",
        "  <thead>\n",
        "    <tr style=\"text-align: right;\">\n",
        "      <th></th>\n",
        "      <th>UNIT</th>\n",
        "      <th>Hour</th>\n",
        "      <th>ENTRIESn_hourly</th>\n",
        "      <th>meanwindspdi</th>\n",
        "      <th>mintempi</th>\n",
        "      <th>meantempi</th>\n",
        "      <th>precipi</th>\n",
        "      <th>fog</th>\n",
        "      <th>rain</th>\n",
        "      <th>meanpressurei</th>\n",
        "      <th>day</th>\n",
        "    </tr>\n",
        "  </thead>\n",
        "  <tbody>\n",
        "    <tr>\n",
        "      <th>93749 </th>\n",
        "      <td> R218</td>\n",
        "      <td>  0</td>\n",
        "      <td> 4774</td>\n",
        "      <td>  5</td>\n",
        "      <td> 54</td>\n",
        "      <td> 56</td>\n",
        "      <td> 0.00</td>\n",
        "      <td> 0</td>\n",
        "      <td> 0</td>\n",
        "      <td> 30.13</td>\n",
        "      <td> 6</td>\n",
        "    </tr>\n",
        "    <tr>\n",
        "      <th>105358</th>\n",
        "      <td> R550</td>\n",
        "      <td> 12</td>\n",
        "      <td>   23</td>\n",
        "      <td>  5</td>\n",
        "      <td> 66</td>\n",
        "      <td> 74</td>\n",
        "      <td> 0.00</td>\n",
        "      <td> 1</td>\n",
        "      <td> 0</td>\n",
        "      <td> 29.78</td>\n",
        "      <td> 1</td>\n",
        "    </tr>\n",
        "    <tr>\n",
        "      <th>72624 </th>\n",
        "      <td> R358</td>\n",
        "      <td>  8</td>\n",
        "      <td>  785</td>\n",
        "      <td> 12</td>\n",
        "      <td> 52</td>\n",
        "      <td> 56</td>\n",
        "      <td> 0.67</td>\n",
        "      <td> 0</td>\n",
        "      <td> 1</td>\n",
        "      <td> 29.93</td>\n",
        "      <td> 1</td>\n",
        "    </tr>\n",
        "    <tr>\n",
        "      <th>18845 </th>\n",
        "      <td> R177</td>\n",
        "      <td> 13</td>\n",
        "      <td> 6669</td>\n",
        "      <td>  9</td>\n",
        "      <td> 46</td>\n",
        "      <td> 56</td>\n",
        "      <td> 0.00</td>\n",
        "      <td> 0</td>\n",
        "      <td> 0</td>\n",
        "      <td> 29.95</td>\n",
        "      <td> 3</td>\n",
        "    </tr>\n",
        "    <tr>\n",
        "      <th>30357 </th>\n",
        "      <td> R549</td>\n",
        "      <td> 16</td>\n",
        "      <td>   12</td>\n",
        "      <td>  6</td>\n",
        "      <td> 55</td>\n",
        "      <td> 64</td>\n",
        "      <td> 0.00</td>\n",
        "      <td> 0</td>\n",
        "      <td> 0</td>\n",
        "      <td> 29.84</td>\n",
        "      <td> 5</td>\n",
        "    </tr>\n",
        "  </tbody>\n",
        "</table>\n",
        "</div>"
       ],
       "metadata": {},
       "output_type": "pyout",
       "prompt_number": 26,
       "text": [
        "        UNIT  Hour  ENTRIESn_hourly  meanwindspdi  mintempi  meantempi  \\\n",
        "93749   R218     0             4774             5        54         56   \n",
        "105358  R550    12               23             5        66         74   \n",
        "72624   R358     8              785            12        52         56   \n",
        "18845   R177    13             6669             9        46         56   \n",
        "30357   R549    16               12             6        55         64   \n",
        "\n",
        "        precipi  fog  rain  meanpressurei  day  \n",
        "93749      0.00    0     0          30.13    6  \n",
        "105358     0.00    1     0          29.78    1  \n",
        "72624      0.67    0     1          29.93    1  \n",
        "18845      0.00    0     0          29.95    3  \n",
        "30357      0.00    0     0          29.84    5  "
       ]
      }
     ],
     "prompt_number": 26
    },
    {
     "cell_type": "markdown",
     "metadata": {},
     "source": [
      "The table before converting Unit, Hour and Day to dummy variables."
     ]
    },
    {
     "cell_type": "code",
     "collapsed": false,
     "input": [
      "len(sub_df3)"
     ],
     "language": "python",
     "metadata": {},
     "outputs": [
      {
       "metadata": {},
       "output_type": "pyout",
       "prompt_number": 27,
       "text": [
        "20000"
       ]
      }
     ],
     "prompt_number": 27
    },
    {
     "cell_type": "markdown",
     "metadata": {},
     "source": [
      "**Features analysis on the 20K subset.** As I found out on this subset, the most powerful feature was `unit` -- much more powerful than the next feature: `hour`. `day` was the third most powerful feature. All other features *combined* made just a slight improvement to r-squared.\n",
      "\n",
      "Combining `unit, hour, day` features I got `r-squared = 0.521855`. Next I added:\n",
      "\n",
      "* `rain` -> r-squared = 0.521886 (+0.000031)\n",
      "\n",
      "* `fog` -> r-squared = 0.5219497 (+0.000064)\n",
      "\n",
      "* `meantempi` -> r-squared = 0.52261876 (+0.000670)\n",
      "\n",
      "* `precipi` -> r-squared = 0.52267074 (+0.000052)\n",
      "\n",
      "* `meanwindspdi` -> r-squared = 0.5226962 (+0.000025)"
     ]
    },
    {
     "cell_type": "markdown",
     "metadata": {},
     "source": [
      "**Calculations of r-squared -- full dataset.** Then, I took the whole dataset. Running the OLS using `hour` dummy variable resulted in `r-squared = 0.11838`. Then, I added `day` (weekday, 0-6) dummy variable. R-squared increased to `0.13412`. Finally, adding `unit` boosted r-squared to `0.51382`!\n",
      "\n",
      "Finally, I added all other features: `rain fog meantempi precipi meanwindspdi`. The final r-squared was about `0.5145058`. Actually, the contribution of `rain` feature was even less than `fog`'s.\n",
      "\n",
      "**Regression results.**"
     ]
    },
    {
     "cell_type": "code",
     "collapsed": false,
     "input": [
      "dummy_units = pd.get_dummies(df3['UNIT'], prefix='u')\n",
      "dummy_hours = pd.get_dummies(df3['Hour'], prefix='h')\n",
      "dummy_weekdays = pd.get_dummies(df3['day'], prefix='wd')\n",
      "\n",
      "features = dummy_hours.join(dummy_units).join(dummy_weekdays).join(df3['rain fog meantempi precipi meanwindspdi meanpressurei'\n",
      ".split(' ')])\n",
      "\n",
      "values = df3['ENTRIESn_hourly']\n",
      "\n",
      "model = sm.OLS(values, features)\n",
      "results = model.fit()\n",
      "\n",
      "print results.summary(xname=['rain', 'fog', 'meantempi', 'precipi', 'meanwindspdi', 'meanpressurei'])"
     ],
     "language": "python",
     "metadata": {},
     "outputs": [
      {
       "output_type": "stream",
       "stream": "stdout",
       "text": [
        "                            OLS Regression Results                            \n",
        "==============================================================================\n",
        "Dep. Variable:        ENTRIESn_hourly   R-squared:                       0.515\n",
        "Model:                            OLS   Adj. R-squared:                  0.513\n",
        "Method:                 Least Squares   F-statistic:                     279.3\n",
        "Date:                Tue, 10 Feb 2015   Prob (F-statistic):               0.00\n",
        "Time:                        16:41:27   Log-Likelihood:            -1.1630e+06\n",
        "No. Observations:              131951   AIC:                         2.327e+06\n",
        "Df Residuals:                  131451   BIC:                         2.332e+06\n",
        "Df Model:                         499                                         \n",
        "Covariance Type:            nonrobust                                         \n",
        "=================================================================================\n",
        "                    coef    std err          t      P>|t|      [95.0% Conf. Int.]\n",
        "---------------------------------------------------------------------------------\n",
        "rain           1687.5034    271.055      6.226      0.000      1156.241  2218.766\n",
        "fog            1318.1992    271.094      4.863      0.000       786.859  1849.539\n",
        "meantempi      1457.4092    272.417      5.350      0.000       923.477  1991.341\n",
        "precipi        1542.7847    272.723      5.657      0.000      1008.253  2077.316\n",
        "meanwindspdi    784.9480    271.035      2.896      0.004       253.724  1316.172\n",
        "meanpressurei   862.6837    271.110      3.182      0.001       331.314  1394.054\n",
        "==============================================================================\n",
        "Omnibus:                   126094.221   Durbin-Watson:                   1.564\n",
        "Prob(Omnibus):                  0.000   Jarque-Bera (JB):         18741911.694\n",
        "Skew:                           4.230   Prob(JB):                         0.00\n",
        "Kurtosis:                      60.770   Cond. No.                     2.39e+17\n",
        "==============================================================================\n",
        "\n",
        "Warnings:\n",
        "[1] Standard Errors assume that the covariance matrix of the errors is correctly specified.\n",
        "[2] The smallest eigenvalue is 1.17e-26. This might indicate that there are\n",
        "strong multicollinearity problems or that the design matrix is singular.\n"
       ]
      }
     ],
     "prompt_number": 37
    },
    {
     "cell_type": "markdown",
     "metadata": {},
     "source": [
      "The coefficients are easily found in the summary above (the 'coef' column)."
     ]
    },
    {
     "cell_type": "markdown",
     "metadata": {},
     "source": [
      "**Is the linear model appropriate for this dataset?** After performing the calculations (both on the 20K subset and on 100% of data) I would not say this model worked best. I got some decent results (after all, r-squared = 0.5145 is not that bad given the amount of data we have), but it could perform much better both in terms of robustness and speed.\n",
      "\n",
      "To illustrate my point, I trained a simple decision tree using `sklearn` package. I split the data into training and testing subsets (100K and the rest respectively) and used the same features as in the OLS model. After training, I got about `0.64203` accuracy on my testing subset."
     ]
    },
    {
     "cell_type": "code",
     "collapsed": false,
     "input": [
      "from sklearn import tree\n",
      "\n",
      "clf = tree.DecisionTreeRegressor()\n",
      "df_train, df_test = df3[:100000], df3[100001:] \n",
      "\n",
      "dummy_units = pd.get_dummies(df_train['UNIT'], prefix='u')\n",
      "dummy_hours = pd.get_dummies(df_train['Hour'], prefix='h')\n",
      "dummy_weekdays = pd.get_dummies(df_train['day'], prefix='wd')\n",
      "\n",
      "features_train = df_train['rain fog meantempi precipi meanwindspdi'.split(' ')]\n",
      "features_train = features_train.join(dummy_hours).join(dummy_units).join(dummy_weekdays)\n",
      "values_train = df_train['ENTRIESn_hourly']\n",
      "\n",
      "dummy_units_t = pd.get_dummies(df_test['UNIT'], prefix='u')\n",
      "dummy_hours_t = pd.get_dummies(df_test['Hour'], prefix='h')\n",
      "dummy_weekdays_t = pd.get_dummies(df_test['day'], prefix='wd')\n",
      "\n",
      "features_test = df_test['rain fog meantempi precipi meanwindspdi'.split(' ')]\n",
      "features_test = features_test.join(dummy_hours_t).join(dummy_units_t).join(dummy_weekdays_t)\n",
      "values_test = df_test['ENTRIESn_hourly']\n",
      "\n",
      "clf.fit(features_train, values_train)\n",
      "clf.score(features_test, values_test)"
     ],
     "language": "python",
     "metadata": {},
     "outputs": [
      {
       "metadata": {},
       "output_type": "pyout",
       "prompt_number": 17,
       "text": [
        "0.64202850895868524"
       ]
      }
     ],
     "prompt_number": 17
    },
    {
     "cell_type": "heading",
     "level": 2,
     "metadata": {},
     "source": [
      "Section 3. Visualization"
     ]
    },
    {
     "cell_type": "markdown",
     "metadata": {},
     "source": [
      "**The first histogram** (ENTRIESn_hourly for rainy days and one of ENTRIESn_hourly for non-rainy days) is pretty basic and can be found in Section 1.\n",
      "\n",
      "**The second visualization** allows us to see the relationships discussed in Section 2. Let's plot something interesting!\n",
      "\n",
      "In Section 2 I actually wondered, why the `hour` feature contributed so little (contrasting with `unit` and `day`). Let's plot it and see."
     ]
    },
    {
     "cell_type": "code",
     "collapsed": false,
     "input": [
      "import pandasql as psql\n",
      "\n",
      "q_mean = \"select avg(ENTRIESn_hourly) from df3 group by Hour\"\n",
      "q_count = \"select count(ENTRIESn_hourly) from df3 group by Hour\"\n",
      "\n",
      "data_count = psql.sqldf(q_count, locals())\n",
      "data_mean = psql.sqldf(q_mean, locals())\n",
      "\n",
      "fig, ax1 = plt.subplots(figsize=(10,6))\n",
      "ax1.bar(left=data_mean.index, height=data_mean.values, alpha=0.5, color='coral', label='Mean of entries per hour')\n",
      "ax1.legend(ncol=2, loc=2)\n",
      "ax1.axis([0,23,0,4000])\n",
      "ax1.set_ylabel('Entries per hour')\n",
      "ax1.set_xlabel('Hours')\n",
      "ax1.set_title('Mean of hourly entries -- Number of data samples')\n",
      "\n",
      "ax2 = ax1.twinx()\n",
      "ax2.plot(data_count.index + 0.5, data_count.values, 'ro', label='Samples')\n",
      "ax2.legend(ncol=2, loc=1)\n",
      "ax2.set_ylabel('Samples count')\n",
      "ax2.axis([0,23,2000,11000])"
     ],
     "language": "python",
     "metadata": {},
     "outputs": [
      {
       "metadata": {},
       "output_type": "pyout",
       "prompt_number": 24,
       "text": [
        "[0, 23, 2000, 11000]"
       ]
      },
      {
       "metadata": {},
       "output_type": "display_data",
       "png": "[encoded data removed]",
       "text": [
        "<matplotlib.figure.Figure at 0x116e02390>"
       ]
      }
     ],
     "prompt_number": 24
    },
    {
     "cell_type": "markdown",
     "metadata": {},
     "source": [
      "When I first plotted the mean of entries per hour, I was really discouraged by the sawtooth form of this bar chart. But after that, I plotted the number of samples as well (as depicted on the chart above). Now we see that these two plots correlate nicely. It means that this feature is of a low quality. It can be the reason why it doesn't contribute a lot to r-squared value."
     ]
    },
    {
     "cell_type": "heading",
     "level": 2,
     "metadata": {},
     "source": [
      "Section 3.1 -- Plotting the ridership on the map"
     ]
    },
    {
     "cell_type": "markdown",
     "metadata": {},
     "source": [
      "In our improved dataset we have station names and coordinates which potentially allow us plot the ridership on the map in any way we want! Let's do this.\n",
      "\n",
      "I'd like to see the difference between ridership patterns on working days (Mon-Fri) and weekends (Sat-Sun). To illustrate the differences, we can plot the subway entrances during mornings (6am - 9am) and evenings (5pm - 9pm).\n",
      "\n",
      "First, we need to prepare the data. "
     ]
    },
    {
     "cell_type": "code",
     "collapsed": false,
     "input": [
      "workday_morning_q = '''SELECT station, latitude, longitude, avg(ENTRIESn_hourly) AS mean_entries FROM df\n",
      "                       WHERE day_week IN (0,1,2,3,4) AND hour IN (6,7,8,9)\n",
      "                       GROUP BY station\n",
      "                       ORDER BY mean_entries DESC'''\n",
      "\n",
      "workday_evening_q = '''SELECT station, latitude, longitude, avg(ENTRIESn_hourly) AS mean_entries FROM df\n",
      "                       WHERE day_week IN (0,1,2,3,4) AND hour IN (17,18,19,20,21)\n",
      "                       GROUP BY station\n",
      "                       ORDER BY mean_entries DESC'''\n",
      "\n",
      "workday_evening = psql.sqldf(workday_evening_q, locals())[:35]\n",
      "workday_morning = psql.sqldf(workday_morning_q, locals())[:35]\n",
      "\n",
      "workday_morning['coef'] = workday_morning['mean_entries'] / 1000\n",
      "workday_evening['coef'] = workday_evening['mean_entries'] / 1000"
     ],
     "language": "python",
     "metadata": {},
     "outputs": []
    },
    {
     "cell_type": "markdown",
     "metadata": {},
     "source": [
      "And now, let's just plot the data on the map. To do so, I used OSM maps (www.openstreetmap.org) instead of Google Maps (hard to get a map with exact coordinates and possible copyright problems) or Python vector maps libraries (too complicated and require a lot of work)."
     ]
    },
    {
     "cell_type": "code",
     "collapsed": false,
     "input": [
      "im = plt.imread('nyc.png')\n",
      "implot = plt.imshow(im, zorder=0, extent=[-74.10, -73.75, 40.90, 40.55], aspect='auto')\n",
      "plt.scatter(workday_evening.longitude, workday_evening.latitude, s=workday_evening.coef*6, color='red', label='Evening Activity')\n",
      "plt.scatter(workday_morning.longitude, workday_morning.latitude, s=workday_morning.coef*6, label='Morning Activity')\n",
      "legend=plt.legend()\n",
      "plt.title('Ridership on working days')"
     ],
     "language": "python",
     "metadata": {},
     "outputs": []
    },
    {
     "cell_type": "markdown",
     "metadata": {},
     "source": [
      "<img src=\"https://dl-web.dropbox.com/get/ridership_workingdays.png?_subject_uid=604364&w=AAAEbpNAtu-Hj1cAMkcPIL-6RBZSuiaNJP1zVh_AJGO2qg\">"
     ]
    },
    {
     "cell_type": "markdown",
     "metadata": {},
     "source": [
      "Here we can see how active Manhattan is in the evening. A lot of people use the subway to get from their offices to their homes. In the morning, instead, people from Queens, Bronx and Brooklyn take the subway in the opposite direction: home -> work.\n",
      "\n",
      "So during the workdays, the pattern is clear: from 'suburbs' to the 'center'.\n",
      "\n",
      "Let's plot the ridership on the weekend. I'll omit the data preparation part since it's the same as in the workday plots.\n",
      "\n",
      "Here is the result:"
     ]
    },
    {
     "cell_type": "markdown",
     "metadata": {},
     "source": [
      "<img src=\"https://dl-web.dropbox.com/get/ridership_weekends.png?_subject_uid=604364&w=AAAcIkH4JF43iMPV2ZYRIyDHkDhLlz-JMDNMLoyGqNRx6A\">"
     ]
    },
    {
     "cell_type": "markdown",
     "metadata": {},
     "source": [
      "The pattern is visible -- people tend to use the subway less on the weekends. Especially in the mornings -- that's reasonable, they don't have to get to work."
     ]
    },
    {
     "cell_type": "heading",
     "level": 2,
     "metadata": {},
     "source": [
      "Section 4 -- Conclusion"
     ]
    },
    {
     "cell_type": "markdown",
     "metadata": {},
     "source": [
      "**Results**. Though I'd say people indeed ride subway somewhat more often when it rains, this conclusion is not very solid. There are several problems with this dataset and calculations which I'll touch upon in Section 5.\n",
      "\n",
      "**Analyses led to this conclusion**. We had two parts of our research (statistical test and linear regression), both of which suggest there is a correlation between weather (rain/no-rain) and ridership. \n",
      "\n",
      "* First, we discovered that `mean_with_rain > mean_without_rain` in Section 1. Comparing two means is a very naive measurement but, still, it confirms the higher ridership during rain.\n",
      "\n",
      "* Second, the p-value in Mann-Whitney U test was less than the p-critical while our H0 was \"There is no difference between the number of entries in rainy and non-rainy days\". It proves that the difference between these groups is statistically significant.\n",
      "\n",
      "* Third, adding the `rain` feature improved our r-squared during the linear regression part. The positive coefficient for the `rain` feature proves a direct relationship between rain and ridership."
     ]
    },
    {
     "cell_type": "heading",
     "level": 2,
     "metadata": {},
     "source": [
      "Section 5 -- Reflection"
     ]
    },
    {
     "cell_type": "markdown",
     "metadata": {},
     "source": [
      "**Shortcomings of the original dataset.** There are several problems with this dataset I'd like to point to.\n",
      "\n",
      "* First, the data suffers from the lack of randomness. This dataset consists of observations for just one month -- May, 2011. \n",
      "\n",
      "* Second, the features in the dataset are interconnected (like rain and precipitation or temperature and fog). There may be a number of multicollinearity problems in this dataset.\n",
      "\n",
      "* Third, as we saw in Section 3, the variance in the number of observations is very high: for some hours there are plenty of samples, for others -- not that many. The same is true for the number of rain/no-rain samples. It reminds me of the Simpson's paradox.\n",
      "\n",
      "* Fourth, the meaning of the feature `unit` is not quite clear. As I understood, a unit is not directly mappable to a station. That's why it may be difficult to interpret the results.\n",
      "\n",
      "* Fifth, the boolean type of `rain` (rain or no rain) takes a lot of useful information away.\n",
      "\n",
      "**Shortcomings of the calculation.** Our r-squared = 0.51 cannot be considered a great result. We could improve it using some more refined and randomized data. For `hour` we need more observations, for `day` we need more months (different) to cover, instead of `unit` we need two different features: station_id and turnstile_number on that station.\n",
      "\n",
      "More to say, the task was to use linear regression which may not be the best fit. I'd rather use a decision tree or ensemble methods to predict the ridership. Another way could be to use a non-linear model to fit the regression.\n",
      "\n",
      "I could take more time to craft features using the existing data and cherry-pick the best of them to simplify the model. My current model which contains hundreds of features is way too complicated."
     ]
    },
    {
     "cell_type": "markdown",
     "metadata": {},
     "source": [
      "Sources I used"
     ]
    },
    {
     "cell_type": "markdown",
     "metadata": {},
     "source": [
      "* OLS, Wikipedia: http://en.wikipedia.org/wiki/Ordinary_least_squares\n",
      "\n",
      "* OLS in statsmodels: http://statsmodels.sourceforge.net/stable/examples/notebooks/generated/ols.html\n",
      "\n",
      "* R-squared, Wikipedia: http://en.wikipedia.org/wiki/Coefficient_of_determination\n",
      "\n",
      "* Validity of t-test for non-normal distribution: http://stats.stackexchange.com/questions/9573/t-test-for-non-normal-when-n50\n",
      "\n",
      "* Matplotlib, working with images: http://matplotlib.org/users/image_tutorial.html\n",
      "\n",
      "* Matplotlib, using legend: http://matplotlib.org/1.3.0/examples/pylab_examples/legend_demo.html\n",
      "\n",
      "* Pandas documentation: http://pandas.pydata.org/pandas-docs/stable/\n",
      "\n",
      "* Sklearn package documentations (Trees): http://scikit-learn.org/stable/modules/tree.html\n",
      "\n",
      "* Pandasql usage: http://blog.yhathq.com/posts/pandasql-sql-for-pandas-dataframes.html"
     ]
    }
   ],
   "metadata": {}
  }
 ]
}